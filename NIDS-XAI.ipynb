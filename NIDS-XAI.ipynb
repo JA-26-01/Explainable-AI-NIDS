{
  "nbformat": 4,
  "nbformat_minor": 0,
  "metadata": {
    "colab": {
      "provenance": []
    },
    "kernelspec": {
      "name": "python3",
      "display_name": "Python 3"
    },
    "language_info": {
      "name": "python"
    }
  },
  "cells": [
    {
      "cell_type": "code",
      "source": [
        "drive.mount('/content/drive')"
      ],
      "metadata": {
        "colab": {
          "base_uri": "https://localhost:8080/"
        },
        "id": "PCz9T9k7eswa",
        "outputId": "3f5ae4b8-adc6-429d-a6ba-19bcedaf12c1"
      },
      "execution_count": null,
      "outputs": [
        {
          "output_type": "stream",
          "name": "stdout",
          "text": [
            "Mounted at /content/drive\n"
          ]
        }
      ]
    },
    {
      "cell_type": "code",
      "source": [
        "import numpy as np\n",
        "import pandas as pd\n",
        "df_train = pd.read_csv(('/content/drive/MyDrive/train_MachineLearningCVE.csv'), skipinitialspace=True, =100000)\n",
        "df_test = pd.read_csv(('/content/drive/MyDrive/test_MachineLearningCVE.csv'), skipinitialspace=True, nrows=100000)"
      ],
      "metadata": {
        "id": "_jIzhqaB5esN"
      },
      "execution_count": null,
      "outputs": []
    },
    {
      "cell_type": "code",
      "source": [
        "df = pd.concat([df_train, df_test], axis=0, copy=True)\n",
        "df.Label.unique()"
      ],
      "metadata": {
        "colab": {
          "base_uri": "https://localhost:8080/"
        },
        "id": "HeFKWplp5xJE",
        "outputId": "50c73e1d-4bb3-4946-9557-061fe93e434f"
      },
      "execution_count": null,
      "outputs": [
        {
          "output_type": "execute_result",
          "data": {
            "text/plain": [
              "array([ 0, 10,  4,  7,  3,  5,  6, 11,  1, 12, 14,  9])"
            ]
          },
          "metadata": {},
          "execution_count": 3
        }
      ]
    },
    {
      "cell_type": "code",
      "source": [
        "df.head()"
      ],
      "metadata": {
        "id": "3ieKVE2g53ax",
        "colab": {
          "base_uri": "https://localhost:8080/",
          "height": 352
        },
        "outputId": "0a8ecbb2-a143-4b3a-f7d0-7559eba2934c"
      },
      "execution_count": null,
      "outputs": [
        {
          "output_type": "execute_result",
          "data": {
            "text/plain": [
              "   Destination Port  Flow Duration  Total Fwd Packets  Total Backward Packets  \\\n",
              "0                80      6018089.0                  5                       3   \n",
              "1               443       323049.0                  8                       6   \n",
              "2                80     39270118.0                  9                      10   \n",
              "3              4848           43.0                  1                       1   \n",
              "4                80      5754816.0                  3                       1   \n",
              "\n",
              "   Total Length of Fwd Packets  Total Length of Bwd Packets  \\\n",
              "0                          177                          994   \n",
              "1                          531                         3208   \n",
              "2                          898                         3944   \n",
              "3                            2                            6   \n",
              "4                           12                            0   \n",
              "\n",
              "   Fwd Packet Length Max  Fwd Packet Length Min  Fwd Packet Length Mean  \\\n",
              "0                    159                      0               35.400000   \n",
              "1                    194                      0               66.375000   \n",
              "2                    431                      0               99.777778   \n",
              "3                      2                      2                2.000000   \n",
              "4                      6                      0                4.000000   \n",
              "\n",
              "   Fwd Packet Length Std  ...  min_seg_size_forward  Active Mean  Active Std  \\\n",
              "0              69.143329  ...                  20.0  275923.0000       0.000   \n",
              "1              85.880211  ...                  20.0       0.0000       0.000   \n",
              "2             187.795619  ...                  20.0  123253.6667  149943.928   \n",
              "3               0.000000  ...                  24.0       0.0000       0.000   \n",
              "4               3.464102  ...                  20.0       0.0000       0.000   \n",
              "\n",
              "   Active Max  Active Min   Idle Mean    Idle Std  Idle Max  Idle Min  Label  \n",
              "0      275923      275923   5742166.0    0.000000   5742166   5742166      0  \n",
              "1           0           0         0.0    0.000000         0         0      0  \n",
              "2      296394       36667  10000000.0  300.561142  10000000   9999980      0  \n",
              "3           0           0         0.0    0.000000         0         0     10  \n",
              "4           0           0         0.0    0.000000         0         0      0  \n",
              "\n",
              "[5 rows x 79 columns]"
            ],
            "text/html": [
              "\n",
              "  <div id=\"df-09eee853-0cef-4988-8e94-7d3bfc847f91\">\n",
              "    <div class=\"colab-df-container\">\n",
              "      <div>\n",
              "<style scoped>\n",
              "    .dataframe tbody tr th:only-of-type {\n",
              "        vertical-align: middle;\n",
              "    }\n",
              "\n",
              "    .dataframe tbody tr th {\n",
              "        vertical-align: top;\n",
              "    }\n",
              "\n",
              "    .dataframe thead th {\n",
              "        text-align: right;\n",
              "    }\n",
              "</style>\n",
              "<table border=\"1\" class=\"dataframe\">\n",
              "  <thead>\n",
              "    <tr style=\"text-align: right;\">\n",
              "      <th></th>\n",
              "      <th>Destination Port</th>\n",
              "      <th>Flow Duration</th>\n",
              "      <th>Total Fwd Packets</th>\n",
              "      <th>Total Backward Packets</th>\n",
              "      <th>Total Length of Fwd Packets</th>\n",
              "      <th>Total Length of Bwd Packets</th>\n",
              "      <th>Fwd Packet Length Max</th>\n",
              "      <th>Fwd Packet Length Min</th>\n",
              "      <th>Fwd Packet Length Mean</th>\n",
              "      <th>Fwd Packet Length Std</th>\n",
              "      <th>...</th>\n",
              "      <th>min_seg_size_forward</th>\n",
              "      <th>Active Mean</th>\n",
              "      <th>Active Std</th>\n",
              "      <th>Active Max</th>\n",
              "      <th>Active Min</th>\n",
              "      <th>Idle Mean</th>\n",
              "      <th>Idle Std</th>\n",
              "      <th>Idle Max</th>\n",
              "      <th>Idle Min</th>\n",
              "      <th>Label</th>\n",
              "    </tr>\n",
              "  </thead>\n",
              "  <tbody>\n",
              "    <tr>\n",
              "      <th>0</th>\n",
              "      <td>80</td>\n",
              "      <td>6018089.0</td>\n",
              "      <td>5</td>\n",
              "      <td>3</td>\n",
              "      <td>177</td>\n",
              "      <td>994</td>\n",
              "      <td>159</td>\n",
              "      <td>0</td>\n",
              "      <td>35.400000</td>\n",
              "      <td>69.143329</td>\n",
              "      <td>...</td>\n",
              "      <td>20.0</td>\n",
              "      <td>275923.0000</td>\n",
              "      <td>0.000</td>\n",
              "      <td>275923</td>\n",
              "      <td>275923</td>\n",
              "      <td>5742166.0</td>\n",
              "      <td>0.000000</td>\n",
              "      <td>5742166</td>\n",
              "      <td>5742166</td>\n",
              "      <td>0</td>\n",
              "    </tr>\n",
              "    <tr>\n",
              "      <th>1</th>\n",
              "      <td>443</td>\n",
              "      <td>323049.0</td>\n",
              "      <td>8</td>\n",
              "      <td>6</td>\n",
              "      <td>531</td>\n",
              "      <td>3208</td>\n",
              "      <td>194</td>\n",
              "      <td>0</td>\n",
              "      <td>66.375000</td>\n",
              "      <td>85.880211</td>\n",
              "      <td>...</td>\n",
              "      <td>20.0</td>\n",
              "      <td>0.0000</td>\n",
              "      <td>0.000</td>\n",
              "      <td>0</td>\n",
              "      <td>0</td>\n",
              "      <td>0.0</td>\n",
              "      <td>0.000000</td>\n",
              "      <td>0</td>\n",
              "      <td>0</td>\n",
              "      <td>0</td>\n",
              "    </tr>\n",
              "    <tr>\n",
              "      <th>2</th>\n",
              "      <td>80</td>\n",
              "      <td>39270118.0</td>\n",
              "      <td>9</td>\n",
              "      <td>10</td>\n",
              "      <td>898</td>\n",
              "      <td>3944</td>\n",
              "      <td>431</td>\n",
              "      <td>0</td>\n",
              "      <td>99.777778</td>\n",
              "      <td>187.795619</td>\n",
              "      <td>...</td>\n",
              "      <td>20.0</td>\n",
              "      <td>123253.6667</td>\n",
              "      <td>149943.928</td>\n",
              "      <td>296394</td>\n",
              "      <td>36667</td>\n",
              "      <td>10000000.0</td>\n",
              "      <td>300.561142</td>\n",
              "      <td>10000000</td>\n",
              "      <td>9999980</td>\n",
              "      <td>0</td>\n",
              "    </tr>\n",
              "    <tr>\n",
              "      <th>3</th>\n",
              "      <td>4848</td>\n",
              "      <td>43.0</td>\n",
              "      <td>1</td>\n",
              "      <td>1</td>\n",
              "      <td>2</td>\n",
              "      <td>6</td>\n",
              "      <td>2</td>\n",
              "      <td>2</td>\n",
              "      <td>2.000000</td>\n",
              "      <td>0.000000</td>\n",
              "      <td>...</td>\n",
              "      <td>24.0</td>\n",
              "      <td>0.0000</td>\n",
              "      <td>0.000</td>\n",
              "      <td>0</td>\n",
              "      <td>0</td>\n",
              "      <td>0.0</td>\n",
              "      <td>0.000000</td>\n",
              "      <td>0</td>\n",
              "      <td>0</td>\n",
              "      <td>10</td>\n",
              "    </tr>\n",
              "    <tr>\n",
              "      <th>4</th>\n",
              "      <td>80</td>\n",
              "      <td>5754816.0</td>\n",
              "      <td>3</td>\n",
              "      <td>1</td>\n",
              "      <td>12</td>\n",
              "      <td>0</td>\n",
              "      <td>6</td>\n",
              "      <td>0</td>\n",
              "      <td>4.000000</td>\n",
              "      <td>3.464102</td>\n",
              "      <td>...</td>\n",
              "      <td>20.0</td>\n",
              "      <td>0.0000</td>\n",
              "      <td>0.000</td>\n",
              "      <td>0</td>\n",
              "      <td>0</td>\n",
              "      <td>0.0</td>\n",
              "      <td>0.000000</td>\n",
              "      <td>0</td>\n",
              "      <td>0</td>\n",
              "      <td>0</td>\n",
              "    </tr>\n",
              "  </tbody>\n",
              "</table>\n",
              "<p>5 rows × 79 columns</p>\n",
              "</div>\n",
              "      <button class=\"colab-df-convert\" onclick=\"convertToInteractive('df-09eee853-0cef-4988-8e94-7d3bfc847f91')\"\n",
              "              title=\"Convert this dataframe to an interactive table.\"\n",
              "              style=\"display:none;\">\n",
              "        \n",
              "  <svg xmlns=\"http://www.w3.org/2000/svg\" height=\"24px\"viewBox=\"0 0 24 24\"\n",
              "       width=\"24px\">\n",
              "    <path d=\"M0 0h24v24H0V0z\" fill=\"none\"/>\n",
              "    <path d=\"M18.56 5.44l.94 2.06.94-2.06 2.06-.94-2.06-.94-.94-2.06-.94 2.06-2.06.94zm-11 1L8.5 8.5l.94-2.06 2.06-.94-2.06-.94L8.5 2.5l-.94 2.06-2.06.94zm10 10l.94 2.06.94-2.06 2.06-.94-2.06-.94-.94-2.06-.94 2.06-2.06.94z\"/><path d=\"M17.41 7.96l-1.37-1.37c-.4-.4-.92-.59-1.43-.59-.52 0-1.04.2-1.43.59L10.3 9.45l-7.72 7.72c-.78.78-.78 2.05 0 2.83L4 21.41c.39.39.9.59 1.41.59.51 0 1.02-.2 1.41-.59l7.78-7.78 2.81-2.81c.8-.78.8-2.07 0-2.86zM5.41 20L4 18.59l7.72-7.72 1.47 1.35L5.41 20z\"/>\n",
              "  </svg>\n",
              "      </button>\n",
              "      \n",
              "  <style>\n",
              "    .colab-df-container {\n",
              "      display:flex;\n",
              "      flex-wrap:wrap;\n",
              "      gap: 12px;\n",
              "    }\n",
              "\n",
              "    .colab-df-convert {\n",
              "      background-color: #E8F0FE;\n",
              "      border: none;\n",
              "      border-radius: 50%;\n",
              "      cursor: pointer;\n",
              "      display: none;\n",
              "      fill: #1967D2;\n",
              "      height: 32px;\n",
              "      padding: 0 0 0 0;\n",
              "      width: 32px;\n",
              "    }\n",
              "\n",
              "    .colab-df-convert:hover {\n",
              "      background-color: #E2EBFA;\n",
              "      box-shadow: 0px 1px 2px rgba(60, 64, 67, 0.3), 0px 1px 3px 1px rgba(60, 64, 67, 0.15);\n",
              "      fill: #174EA6;\n",
              "    }\n",
              "\n",
              "    [theme=dark] .colab-df-convert {\n",
              "      background-color: #3B4455;\n",
              "      fill: #D2E3FC;\n",
              "    }\n",
              "\n",
              "    [theme=dark] .colab-df-convert:hover {\n",
              "      background-color: #434B5C;\n",
              "      box-shadow: 0px 1px 3px 1px rgba(0, 0, 0, 0.15);\n",
              "      filter: drop-shadow(0px 1px 2px rgba(0, 0, 0, 0.3));\n",
              "      fill: #FFFFFF;\n",
              "    }\n",
              "  </style>\n",
              "\n",
              "      <script>\n",
              "        const buttonEl =\n",
              "          document.querySelector('#df-09eee853-0cef-4988-8e94-7d3bfc847f91 button.colab-df-convert');\n",
              "        buttonEl.style.display =\n",
              "          google.colab.kernel.accessAllowed ? 'block' : 'none';\n",
              "\n",
              "        async function convertToInteractive(key) {\n",
              "          const element = document.querySelector('#df-09eee853-0cef-4988-8e94-7d3bfc847f91');\n",
              "          const dataTable =\n",
              "            await google.colab.kernel.invokeFunction('convertToInteractive',\n",
              "                                                     [key], {});\n",
              "          if (!dataTable) return;\n",
              "\n",
              "          const docLinkHtml = 'Like what you see? Visit the ' +\n",
              "            '<a target=\"_blank\" href=https://colab.research.google.com/notebooks/data_table.ipynb>data table notebook</a>'\n",
              "            + ' to learn more about interactive tables.';\n",
              "          element.innerHTML = '';\n",
              "          dataTable['output_type'] = 'display_data';\n",
              "          await google.colab.output.renderOutput(dataTable, element);\n",
              "          const docLink = document.createElement('div');\n",
              "          docLink.innerHTML = docLinkHtml;\n",
              "          element.appendChild(docLink);\n",
              "        }\n",
              "      </script>\n",
              "    </div>\n",
              "  </div>\n",
              "  "
            ]
          },
          "metadata": {},
          "execution_count": 5
        }
      ]
    },
    {
      "cell_type": "code",
      "source": [
        "df.shape"
      ],
      "metadata": {
        "colab": {
          "base_uri": "https://localhost:8080/"
        },
        "id": "1Lf4HXj9wGlT",
        "outputId": "6bef2630-3f6c-401e-d08f-dfa4d863d2ba"
      },
      "execution_count": null,
      "outputs": [
        {
          "output_type": "execute_result",
          "data": {
            "text/plain": [
              "(200000, 79)"
            ]
          },
          "metadata": {},
          "execution_count": 4
        }
      ]
    },
    {
      "cell_type": "code",
      "source": [
        "df=df.dropna()"
      ],
      "metadata": {
        "id": "UA5YfWxz6Jge"
      },
      "execution_count": null,
      "outputs": []
    },
    {
      "cell_type": "code",
      "source": [
        "df.isna().sum()"
      ],
      "metadata": {
        "colab": {
          "base_uri": "https://localhost:8080/"
        },
        "id": "m4jsWneB-B_m",
        "outputId": "bd85b7c1-fb45-43c1-83b6-0b1c6dece64a"
      },
      "execution_count": null,
      "outputs": [
        {
          "output_type": "execute_result",
          "data": {
            "text/plain": [
              "Destination Port               0\n",
              "Flow Duration                  0\n",
              "Total Fwd Packets              0\n",
              "Total Backward Packets         0\n",
              "Total Length of Fwd Packets    0\n",
              "                              ..\n",
              "Idle Mean                      0\n",
              "Idle Std                       0\n",
              "Idle Max                       0\n",
              "Idle Min                       0\n",
              "Label                          0\n",
              "Length: 79, dtype: int64"
            ]
          },
          "metadata": {},
          "execution_count": 6
        }
      ]
    },
    {
      "cell_type": "code",
      "source": [
        "df.dtypes"
      ],
      "metadata": {
        "id": "iKXSPYGp6FTD",
        "colab": {
          "base_uri": "https://localhost:8080/"
        },
        "outputId": "ae8248ad-2fc3-4394-b487-d10833440c6a"
      },
      "execution_count": null,
      "outputs": [
        {
          "output_type": "execute_result",
          "data": {
            "text/plain": [
              "Destination Port                 int64\n",
              "Flow Duration                  float64\n",
              "Total Fwd Packets                int64\n",
              "Total Backward Packets           int64\n",
              "Total Length of Fwd Packets      int64\n",
              "                                ...   \n",
              "Idle Mean                      float64\n",
              "Idle Std                       float64\n",
              "Idle Max                         int64\n",
              "Idle Min                         int64\n",
              "Label                            int64\n",
              "Length: 79, dtype: object"
            ]
          },
          "metadata": {},
          "execution_count": 7
        }
      ]
    },
    {
      "cell_type": "code",
      "source": [
        "df['Label'].value_counts(sort=True)"
      ],
      "metadata": {
        "id": "zEcT2RTS5--J",
        "colab": {
          "base_uri": "https://localhost:8080/"
        },
        "outputId": "c52ad24b-bced-4652-980e-9968e397f89c"
      },
      "execution_count": null,
      "outputs": [
        {
          "output_type": "execute_result",
          "data": {
            "text/plain": [
              "0     171004\n",
              "4      18490\n",
              "10      7377\n",
              "3        859\n",
              "7        584\n",
              "6        488\n",
              "11       450\n",
              "5        429\n",
              "1        143\n",
              "12       131\n",
              "14        41\n",
              "9          4\n",
              "Name: Label, dtype: int64"
            ]
          },
          "metadata": {},
          "execution_count": 6
        }
      ]
    },
    {
      "cell_type": "code",
      "source": [
        "df = df.sample(frac=1)\n",
        "x = df.iloc[:, df.columns != 'Label']\n",
        "y = df[['Label']].to_numpy()"
      ],
      "metadata": {
        "id": "e5GIPyzr6RV-"
      },
      "execution_count": null,
      "outputs": []
    },
    {
      "cell_type": "code",
      "source": [
        "from sklearn.preprocessing import MinMaxScaler\n",
        "scaler = MinMaxScaler()\n",
        "X = scaler.fit_transform(x)"
      ],
      "metadata": {
        "id": "QEI7g0ux6XUV"
      },
      "execution_count": null,
      "outputs": []
    },
    {
      "cell_type": "code",
      "source": [
        "from sklearn.model_selection import train_test_split\n",
        "X_train, X_test, y_train, y_test = train_test_split(x, y, test_size=0.1, random_state=1, stratify=y)"
      ],
      "metadata": {
        "id": "FQow3-QB6aQf"
      },
      "execution_count": null,
      "outputs": []
    },
    {
      "cell_type": "code",
      "source": [
        "from imblearn.over_sampling import SMOTE \n",
        "k=2\n",
        "sm = SMOTE(k_neighbors=k, random_state=42)\n",
        "X_train_res, y_train_res = sm.fit_resample(X_train, y_train.ravel()) "
      ],
      "metadata": {
        "id": "OzXXPWoc68IX"
      },
      "execution_count": null,
      "outputs": []
    },
    {
      "cell_type": "code",
      "source": [
        "X_train.shape"
      ],
      "metadata": {
        "id": "_2Uvp7YrQKDA",
        "colab": {
          "base_uri": "https://localhost:8080/"
        },
        "outputId": "4530f84e-a074-48af-9845-a000091e8c7c"
      },
      "execution_count": null,
      "outputs": [
        {
          "output_type": "execute_result",
          "data": {
            "text/plain": [
              "(180000, 78)"
            ]
          },
          "metadata": {},
          "execution_count": 13
        }
      ]
    },
    {
      "cell_type": "code",
      "source": [
        "X_train_res.shape"
      ],
      "metadata": {
        "colab": {
          "base_uri": "https://localhost:8080/"
        },
        "id": "ekGNVoOck-67",
        "outputId": "46e15473-a7d9-4383-9614-d7df4b4cf408"
      },
      "execution_count": null,
      "outputs": [
        {
          "output_type": "execute_result",
          "data": {
            "text/plain": [
              "(1846848, 78)"
            ]
          },
          "metadata": {},
          "execution_count": 11
        }
      ]
    },
    {
      "cell_type": "code",
      "source": [
        "X_train_1 = X_train_res.iloc[:600000]\n",
        "X_train_2 = X_train_res.iloc[600000:1200000]\n",
        "X_train_3 = X_train_res.iloc[1200000:]\n",
        "y_train_1 = y_train_res[:600000]\n",
        "y_train_2 = y_train_res[600000:1200000]\n",
        "y_train_3 = y_train_res[1200000:]"
      ],
      "metadata": {
        "id": "1GuldLlMQdtI"
      },
      "execution_count": null,
      "outputs": []
    },
    {
      "cell_type": "code",
      "source": [
        "from sklearn.model_selection import KFold\n",
        "kf = KFold(n_splits=10)\n",
        "kf.get_n_splits(X)\n",
        "print(kf)\n",
        "KFold(n_splits=10, random_state=None, shuffle=False)\n",
        "for train_index, test_index in kf.split(X):\n",
        "  print(\"TRAIN:\", train_index, \"TEST:\", test_index)\n",
        "  X_train, X_test = X[train_index], X[test_index]\n",
        "  y_train, y_test = y[train_index], y[test_index]"
      ],
      "metadata": {
        "id": "SHqGaAAFRNCU",
        "colab": {
          "base_uri": "https://localhost:8080/"
        },
        "outputId": "3faf7311-d933-4e21-ae81-ee1c36d6d960"
      },
      "execution_count": null,
      "outputs": [
        {
          "output_type": "stream",
          "name": "stdout",
          "text": [
            "KFold(n_splits=10, random_state=None, shuffle=False)\n",
            "TRAIN: [ 20000  20001  20002 ... 199997 199998 199999] TEST: [    0     1     2 ... 19997 19998 19999]\n",
            "TRAIN: [     0      1      2 ... 199997 199998 199999] TEST: [20000 20001 20002 ... 39997 39998 39999]\n",
            "TRAIN: [     0      1      2 ... 199997 199998 199999] TEST: [40000 40001 40002 ... 59997 59998 59999]\n",
            "TRAIN: [     0      1      2 ... 199997 199998 199999] TEST: [60000 60001 60002 ... 79997 79998 79999]\n",
            "TRAIN: [     0      1      2 ... 199997 199998 199999] TEST: [80000 80001 80002 ... 99997 99998 99999]\n",
            "TRAIN: [     0      1      2 ... 199997 199998 199999] TEST: [100000 100001 100002 ... 119997 119998 119999]\n",
            "TRAIN: [     0      1      2 ... 199997 199998 199999] TEST: [120000 120001 120002 ... 139997 139998 139999]\n",
            "TRAIN: [     0      1      2 ... 199997 199998 199999] TEST: [140000 140001 140002 ... 159997 159998 159999]\n",
            "TRAIN: [     0      1      2 ... 199997 199998 199999] TEST: [160000 160001 160002 ... 179997 179998 179999]\n",
            "TRAIN: [     0      1      2 ... 179997 179998 179999] TEST: [180000 180001 180002 ... 199997 199998 199999]\n"
          ]
        }
      ]
    },
    {
      "cell_type": "code",
      "source": [
        "from sklearn import model_selection\n",
        "from sklearn.ensemble import RandomForestClassifier\n",
        "\n",
        "# Initializing the 1st Random Forest classifier\n",
        "classifier1 = RandomForestClassifier(n_estimators = 20, criterion = \"gini\", max_depth = 4,max_features = \"auto\")\n",
        "classifier1.fit(X_train_1,y_train_1)\n",
        "# Initializing the 1st Random Forest classifier\n",
        "classifier2 = RandomForestClassifier(n_estimators = 20, criterion = \"gini\", max_depth = 4,max_features = \"auto\")\n",
        "classifier2.fit(X_train_2,y_train_2)\n",
        "# Initializing the 1st Random Forest classifier\n",
        "classifier3 = RandomForestClassifier(n_estimators = 20, criterion = \"gini\", max_depth = 4,max_features = \"auto\")\n",
        "classifier3.fit(X_train_3,y_train_3)\n",
        "# Initializing the StackingCV classifier\n",
        "#sclf = StackingCVClassifier(classifiers = [classifier1, classifier2, classifier3],shuffle = False,use_probas = True,cv = 5,meta_classifier = SVC(probability = True))\n"
      ],
      "metadata": {
        "id": "bw29qiXHMZdM",
        "colab": {
          "base_uri": "https://localhost:8080/"
        },
        "outputId": "7e47dc84-99ce-4315-8ca7-d1cf82a270c3"
      },
      "execution_count": null,
      "outputs": [
        {
          "output_type": "execute_result",
          "data": {
            "text/plain": [
              "RandomForestClassifier(max_depth=4, n_estimators=20)"
            ]
          },
          "metadata": {},
          "execution_count": 27
        }
      ]
    },
    {
      "cell_type": "code",
      "source": [
        "import six\n",
        "import sys\n",
        "sys.modules['sklearn.externals.six'] = six\n",
        "from mlxtend.classifier import StackingClassifier\n",
        "from sklearn.linear_model import LogisticRegression\n",
        "\n",
        "lr = LogisticRegression()\n",
        "clf_stack = StackingClassifier(classifiers =[classifier1,classifier2,classifier3], meta_classifier = lr, use_probas = True, use_features_in_secondary = True)"
      ],
      "metadata": {
        "id": "GGBHhdRioAZ0"
      },
      "execution_count": null,
      "outputs": []
    },
    {
      "cell_type": "code",
      "source": [
        "model_stack = clf_stack.fit(X_train,y_train.ravel())   # training of stacked model"
      ],
      "metadata": {
        "colab": {
          "base_uri": "https://localhost:8080/"
        },
        "id": "P9eoPir_pLC-",
        "outputId": "be8c7742-db1e-46c0-83ae-5be1fe99232c"
      },
      "execution_count": null,
      "outputs": [
        {
          "output_type": "stream",
          "name": "stderr",
          "text": [
            "/usr/local/lib/python3.7/dist-packages/sklearn/linear_model/_logistic.py:818: ConvergenceWarning: lbfgs failed to converge (status=1):\n",
            "STOP: TOTAL NO. of ITERATIONS REACHED LIMIT.\n",
            "\n",
            "Increase the number of iterations (max_iter) or scale the data as shown in:\n",
            "    https://scikit-learn.org/stable/modules/preprocessing.html\n",
            "Please also refer to the documentation for alternative solver options:\n",
            "    https://scikit-learn.org/stable/modules/linear_model.html#logistic-regression\n",
            "  extra_warning_msg=_LOGISTIC_SOLVER_CONVERGENCE_MSG,\n"
          ]
        }
      ]
    },
    {
      "cell_type": "code",
      "source": [
        "pred_stack = model_stack.predict(X_test)       # predictions on test data using stacked model"
      ],
      "metadata": {
        "id": "IAXqJGcYqmgw"
      },
      "execution_count": null,
      "outputs": []
    },
    {
      "cell_type": "markdown",
      "source": [
        "MODEL EVALUATION"
      ],
      "metadata": {
        "id": "SeCjjV_NsM2n"
      }
    },
    {
      "cell_type": "code",
      "source": [
        "from sklearn import metrics\n",
        "metrics.confusion_matrix(y_test,pred_stack)"
      ],
      "metadata": {
        "colab": {
          "base_uri": "https://localhost:8080/"
        },
        "id": "j8oODu4ksyCb",
        "outputId": "129e2c96-fd70-4991-e972-01be41d6a087"
      },
      "execution_count": null,
      "outputs": [
        {
          "output_type": "execute_result",
          "data": {
            "text/plain": [
              "array([[17033,     0,     2,    83,     4,     0,     0,     0,    11,\n",
              "            0,     0,     0],\n",
              "       [   16,     0,     0,     0,     0,     0,     0,     0,     0,\n",
              "            0,     0,     0],\n",
              "       [   13,     0,    99,     2,     0,     0,     0,     0,     0,\n",
              "            0,     0,     0],\n",
              "       [   62,     0,     0,  1752,     0,     0,     0,     0,     0,\n",
              "            0,     0,     0],\n",
              "       [   12,     0,     0,     0,    30,     1,     0,     0,     0,\n",
              "            0,     0,     0],\n",
              "       [    9,     0,     0,     0,     3,    37,     0,     0,     0,\n",
              "            0,     0,     0],\n",
              "       [    0,     0,     0,     1,     0,     0,    67,     0,     0,\n",
              "            0,     0,     0],\n",
              "       [    1,     0,     0,     0,     0,     0,     0,     0,     0,\n",
              "            0,     0,     0],\n",
              "       [    3,     0,     0,     0,     0,     0,     0,     0,   698,\n",
              "            0,     0,     0],\n",
              "       [   42,     0,     0,     0,     0,     0,     0,     0,     0,\n",
              "            0,     0,     0],\n",
              "       [   13,     0,     0,     0,     0,     0,     0,     0,     0,\n",
              "            0,     0,     0],\n",
              "       [    6,     0,     0,     0,     0,     0,     0,     0,     0,\n",
              "            0,     0,     0]])"
            ]
          },
          "metadata": {},
          "execution_count": 36
        }
      ]
    },
    {
      "cell_type": "code",
      "source": [
        "#Stacked Model comparison with other models\n",
        "forest = RandomForestClassifier()\n",
        "forest.fit(X_train_res, y_train_res.ravel())\n",
        "# Make predictions for the test set\n",
        "y_pred_test = forest.predict(X_test)\n",
        "# View confusion matrix for test data and predictions\n",
        "metrics.confusion_matrix(y_test, y_pred_test)\n"
      ],
      "metadata": {
        "colab": {
          "base_uri": "https://localhost:8080/"
        },
        "id": "wGZ7x523TVvG",
        "outputId": "028e088e-3b5d-4f1c-c612-ab7003ec674d"
      },
      "execution_count": null,
      "outputs": [
        {
          "output_type": "stream",
          "name": "stderr",
          "text": [
            "/usr/local/lib/python3.7/dist-packages/sklearn/base.py:451: UserWarning: X does not have valid feature names, but RandomForestClassifier was fitted with feature names\n",
            "  \"X does not have valid feature names, but\"\n"
          ]
        },
        {
          "output_type": "execute_result",
          "data": {
            "text/plain": [
              "array([[17018,     0,     0,     0,     0,     0,     0,     0,     0,\n",
              "            0,     0],\n",
              "       [   10,     0,     0,     0,     0,     0,     0,     0,     0,\n",
              "            0,     0],\n",
              "       [   83,     0,     0,     0,     0,     0,     0,     0,     0,\n",
              "            0,     0],\n",
              "       [ 1912,     0,     0,     0,     0,     0,     0,     0,     0,\n",
              "            0,     0],\n",
              "       [   52,     0,     0,     0,     0,     0,     0,     0,     0,\n",
              "            0,     0],\n",
              "       [   51,     0,     0,     0,     0,     0,     0,     0,     0,\n",
              "            0,     0],\n",
              "       [   59,     0,     0,     0,     0,     0,     0,     0,     0,\n",
              "            0,     0],\n",
              "       [  750,     0,     0,     0,     0,     0,     0,     0,     0,\n",
              "            0,     0],\n",
              "       [   52,     0,     0,     0,     0,     0,     0,     0,     0,\n",
              "            0,     0],\n",
              "       [    9,     0,     0,     0,     0,     0,     0,     0,     0,\n",
              "            0,     0],\n",
              "       [    4,     0,     0,     0,     0,     0,     0,     0,     0,\n",
              "            0,     0]])"
            ]
          },
          "metadata": {},
          "execution_count": 23
        }
      ]
    },
    {
      "cell_type": "code",
      "source": [
        "from sklearn.tree import DecisionTreeClassifier\n",
        "clf_en = DecisionTreeClassifier(criterion='entropy',max_depth=3, random_state=0)\n",
        "clf_en.fit(X_train_res, y_train_res.ravel())\n",
        "y_pred_en = clf_en.predict(X_test)\n",
        "metrics.confusion_matrix(y_test, y_pred_en)"
      ],
      "metadata": {
        "colab": {
          "base_uri": "https://localhost:8080/"
        },
        "id": "zKFlZMVuVGfJ",
        "outputId": "7151353a-14cb-4e04-a7b8-eef456d86568"
      },
      "execution_count": null,
      "outputs": [
        {
          "output_type": "stream",
          "name": "stderr",
          "text": [
            "/usr/local/lib/python3.7/dist-packages/sklearn/base.py:451: UserWarning: X does not have valid feature names, but DecisionTreeClassifier was fitted with feature names\n",
            "  \"X does not have valid feature names, but\"\n"
          ]
        },
        {
          "output_type": "execute_result",
          "data": {
            "text/plain": [
              "array([[    0,     0,     0,     0,     0,     0, 17018,     0,     0,\n",
              "            0,     0],\n",
              "       [    0,     0,     0,     0,     0,     0,    10,     0,     0,\n",
              "            0,     0],\n",
              "       [    0,     0,     0,     0,     0,     0,    83,     0,     0,\n",
              "            0,     0],\n",
              "       [    0,     0,     0,     0,     0,     0,  1912,     0,     0,\n",
              "            0,     0],\n",
              "       [    0,     0,     0,     0,     0,     0,    52,     0,     0,\n",
              "            0,     0],\n",
              "       [    0,     0,     0,     0,     0,     0,    51,     0,     0,\n",
              "            0,     0],\n",
              "       [    0,     0,     0,     0,     0,     0,    59,     0,     0,\n",
              "            0,     0],\n",
              "       [    0,     0,     0,     0,     0,     0,   750,     0,     0,\n",
              "            0,     0],\n",
              "       [    0,     0,     0,     0,     0,     0,    52,     0,     0,\n",
              "            0,     0],\n",
              "       [    0,     0,     0,     0,     0,     0,     9,     0,     0,\n",
              "            0,     0],\n",
              "       [    0,     0,     0,     0,     0,     0,     4,     0,     0,\n",
              "            0,     0]])"
            ]
          },
          "metadata": {},
          "execution_count": 24
        }
      ]
    },
    {
      "cell_type": "code",
      "source": [
        "from sklearn.metrics import accuracy_score\n",
        "import xgboost as xgb\n",
        "xgb_cl = xgb.XGBClassifier()\n",
        "xgb_cl.fit(X_train, y_train.ravel())\n",
        "y_pred_xgb = xgb_cl.predict(X_test)\n",
        "metrics.confusion_matrix(y_test, y_pred_xgb)\n"
      ],
      "metadata": {
        "colab": {
          "base_uri": "https://localhost:8080/"
        },
        "id": "5OngFWT3VOOM",
        "outputId": "ca11927b-d0d9-464f-82da-c715033f6237"
      },
      "execution_count": null,
      "outputs": [
        {
          "output_type": "execute_result",
          "data": {
            "text/plain": [
              "array([[17008,     0,     1,     0,     1,     0,     0,     8,     0,\n",
              "            0,     0],\n",
              "       [    2,     8,     0,     0,     0,     0,     0,     0,     0,\n",
              "            0,     0],\n",
              "       [    2,     0,    81,     0,     0,     0,     0,     0,     0,\n",
              "            0,     0],\n",
              "       [    0,     0,     0,  1912,     0,     0,     0,     0,     0,\n",
              "            0,     0],\n",
              "       [    1,     0,     0,     0,    50,     1,     0,     0,     0,\n",
              "            0,     0],\n",
              "       [    1,     0,     0,     0,     0,    50,     0,     0,     0,\n",
              "            0,     0],\n",
              "       [    1,     0,     0,     0,     0,     0,    58,     0,     0,\n",
              "            0,     0],\n",
              "       [    0,     0,     0,     0,     0,     0,     0,   750,     0,\n",
              "            0,     0],\n",
              "       [    1,     0,     0,     0,     0,     0,     0,     0,    51,\n",
              "            0,     0],\n",
              "       [    1,     0,     0,     0,     0,     0,     0,     0,     0,\n",
              "            8,     0],\n",
              "       [    1,     0,     0,     0,     0,     0,     0,     0,     0,\n",
              "            3,     0]])"
            ]
          },
          "metadata": {},
          "execution_count": 26
        }
      ]
    },
    {
      "cell_type": "code",
      "source": [
        "from sklearn.metrics import precision_score\n",
        "from sklearn.metrics import recall_score\n",
        "from sklearn.metrics import f1_score\n",
        "from sklearn.metrics import roc_auc_score\n",
        "# precision tp / (tp + fp)\n",
        "print(\"For Stacked Ensemble:-\")\n",
        "precision = precision_score(y_test,pred_stack,average='micro')\n",
        "print('Precision: %f' % precision)\n",
        "# recall: tp / (tp + fn)\n",
        "recall = recall_score(y_test,pred_stack,average='micro')\n",
        "print('Recall: %f' % recall)\n",
        "# f1: 2 tp / (2 tp + fp + fn)\n",
        "f1 = f1_score(y_test,pred_stack,average='micro')\n",
        "print('F1 score: %f' % f1)\n",
        "# ROC AUC\n",
        "#auc = roc_auc_score(y_test,pred_stack,average='micro',multi_class=\"ovr\")\n",
        "#print('ROC AUC: %f' % auc)\n",
        "print(\"\\nFor Random Forest\")\n",
        "precision = precision_score(y_test, y_pred_test,average='micro')\n",
        "print('Precision: %f' % precision)\n",
        "# recall: tp / (tp + fn)\n",
        "recall = recall_score(y_test, y_pred_test,average='micro')\n",
        "print('Recall: %f' % recall)\n",
        "# f1: 2 tp / (2 tp + fp + fn)\n",
        "f1 = f1_score(y_test, y_pred_test,average='micro')\n",
        "print('F1 score: %f' % f1)\n",
        "print(\"\\nFor Decision Tree\")\n",
        "precision = precision_score(y_test, y_pred_en,average='micro')\n",
        "print('Precision: %f' % precision)\n",
        "# recall: tp / (tp + fn)\n",
        "recall = recall_score(y_test, y_pred_en,average='micro')\n",
        "print('Recall: %f' % recall)\n",
        "# f1: 2 tp / (2 tp + fp + fn)\n",
        "f1 = f1_score(y_test, y_pred_en,average='micro')\n",
        "print('F1 score: %f' % f1)\n",
        "print(\"\\nFor XBG classifier\")\n",
        "precision = precision_score(y_test, y_pred_xgb,average='micro')\n",
        "print('Precision: %f' % precision)\n",
        "# recall: tp / (tp + fn)\n",
        "recall = recall_score(y_test, y_pred_xgb,average='micro')\n",
        "print('Recall: %f' % recall)\n",
        "# f1: 2 tp / (2 tp + fp + fn)\n",
        "f1 = f1_score(y_test, y_pred_xgb,average='micro')\n",
        "print('F1 score: %f' % f1)"
      ],
      "metadata": {
        "colab": {
          "base_uri": "https://localhost:8080/"
        },
        "id": "wqvwgTONVc6y",
        "outputId": "66929ad0-7fcd-4ceb-f979-bfc5ab67c50f"
      },
      "execution_count": null,
      "outputs": [
        {
          "output_type": "stream",
          "name": "stdout",
          "text": [
            "For Stacked Ensemble:-\n",
            "Precision: 0.991200\n",
            "Recall: 0.991200\n",
            "F1 score: 0.991200\n",
            "\n",
            "For Random Forest\n",
            "Precision: 0.850900\n",
            "Recall: 0.850900\n",
            "F1 score: 0.850900\n",
            "\n",
            "For Decision Tree\n",
            "Precision: 0.002950\n",
            "Recall: 0.002950\n",
            "F1 score: 0.002950\n",
            "\n",
            "For XBG classifier\n",
            "Precision: 0.998800\n",
            "Recall: 0.998800\n",
            "F1 score: 0.998800\n"
          ]
        }
      ]
    },
    {
      "cell_type": "markdown",
      "source": [
        "Explainable AI using XAI models"
      ],
      "metadata": {
        "id": "LPTj5GyHsOBr"
      }
    },
    {
      "cell_type": "code",
      "source": [
        "!pip install shap "
      ],
      "metadata": {
        "colab": {
          "base_uri": "https://localhost:8080/"
        },
        "id": "nJPVIq45s9VW",
        "outputId": "67658d48-d37e-4a3f-b6da-fd43bc9f0270"
      },
      "execution_count": null,
      "outputs": [
        {
          "output_type": "stream",
          "name": "stdout",
          "text": [
            "Looking in indexes: https://pypi.org/simple, https://us-python.pkg.dev/colab-wheels/public/simple/\n",
            "Collecting shap\n",
            "  Downloading shap-0.41.0-cp37-cp37m-manylinux_2_12_x86_64.manylinux2010_x86_64.whl (569 kB)\n",
            "\u001b[K     |████████████████████████████████| 569 kB 6.6 MB/s \n",
            "\u001b[?25hRequirement already satisfied: packaging>20.9 in /usr/local/lib/python3.7/dist-packages (from shap) (21.3)\n",
            "Requirement already satisfied: numpy in /usr/local/lib/python3.7/dist-packages (from shap) (1.21.6)\n",
            "Requirement already satisfied: cloudpickle in /usr/local/lib/python3.7/dist-packages (from shap) (1.5.0)\n",
            "Requirement already satisfied: numba in /usr/local/lib/python3.7/dist-packages (from shap) (0.56.4)\n",
            "Requirement already satisfied: tqdm>4.25.0 in /usr/local/lib/python3.7/dist-packages (from shap) (4.64.1)\n",
            "Requirement already satisfied: scikit-learn in /usr/local/lib/python3.7/dist-packages (from shap) (1.0.2)\n",
            "Requirement already satisfied: scipy in /usr/local/lib/python3.7/dist-packages (from shap) (1.7.3)\n",
            "Requirement already satisfied: pandas in /usr/local/lib/python3.7/dist-packages (from shap) (1.3.5)\n",
            "Collecting slicer==0.0.7\n",
            "  Downloading slicer-0.0.7-py3-none-any.whl (14 kB)\n",
            "Requirement already satisfied: pyparsing!=3.0.5,>=2.0.2 in /usr/local/lib/python3.7/dist-packages (from packaging>20.9->shap) (3.0.9)\n",
            "Requirement already satisfied: importlib-metadata in /usr/local/lib/python3.7/dist-packages (from numba->shap) (4.13.0)\n",
            "Requirement already satisfied: setuptools in /usr/local/lib/python3.7/dist-packages (from numba->shap) (57.4.0)\n",
            "Requirement already satisfied: llvmlite<0.40,>=0.39.0dev0 in /usr/local/lib/python3.7/dist-packages (from numba->shap) (0.39.1)\n",
            "Requirement already satisfied: typing-extensions>=3.6.4 in /usr/local/lib/python3.7/dist-packages (from importlib-metadata->numba->shap) (4.1.1)\n",
            "Requirement already satisfied: zipp>=0.5 in /usr/local/lib/python3.7/dist-packages (from importlib-metadata->numba->shap) (3.10.0)\n",
            "Requirement already satisfied: pytz>=2017.3 in /usr/local/lib/python3.7/dist-packages (from pandas->shap) (2022.6)\n",
            "Requirement already satisfied: python-dateutil>=2.7.3 in /usr/local/lib/python3.7/dist-packages (from pandas->shap) (2.8.2)\n",
            "Requirement already satisfied: six>=1.5 in /usr/local/lib/python3.7/dist-packages (from python-dateutil>=2.7.3->pandas->shap) (1.15.0)\n",
            "Requirement already satisfied: threadpoolctl>=2.0.0 in /usr/local/lib/python3.7/dist-packages (from scikit-learn->shap) (3.1.0)\n",
            "Requirement already satisfied: joblib>=0.11 in /usr/local/lib/python3.7/dist-packages (from scikit-learn->shap) (1.2.0)\n",
            "Installing collected packages: slicer, shap\n",
            "Successfully installed shap-0.41.0 slicer-0.0.7\n"
          ]
        }
      ]
    },
    {
      "cell_type": "code",
      "source": [
        "import shap\n",
        "# Generate the Tree explainer and SHAP values\n",
        "explainer = shap.Explainer(model_stack.predict, X_test)\n",
        "shap_values = explainer(X_test)"
      ],
      "metadata": {
        "id": "xn-fowqGZ3I7",
        "outputId": "01183214-e4cc-4358-c51f-2fe5e6702aef",
        "colab": {
          "base_uri": "https://localhost:8080/"
        }
      },
      "execution_count": null,
      "outputs": [
        {
          "output_type": "stream",
          "name": "stderr",
          "text": [
            "Permutation explainer: 20001it [1:42:26,  3.25it/s]\n"
          ]
        }
      ]
    },
    {
      "cell_type": "code",
      "source": [
        "shap.plots.bar(shap_values)"
      ],
      "metadata": {
        "colab": {
          "base_uri": "https://localhost:8080/",
          "height": 418
        },
        "id": "Tz83aoAXJ9CD",
        "outputId": "da0d1d42-76c5-40ab-a5ae-25138a0ce13f"
      },
      "execution_count": null,
      "outputs": [
        {
          "output_type": "display_data",
          "data": {
            "text/plain": [
              "<Figure size 576x468 with 1 Axes>"
            ],
            "image/png": "[encoded data removed]"
          },
          "metadata": {}
        }
      ]
    },
    {
      "cell_type": "code",
      "source": [
        "shap.summary_plot(shap_values)"
      ],
      "metadata": {
        "colab": {
          "base_uri": "https://localhost:8080/",
          "height": 693
        },
        "id": "TLQn3VFyKCV7",
        "outputId": "2a83763e-44e3-4f27-a8d2-75d0e131f2e1"
      },
      "execution_count": null,
      "outputs": [
        {
          "output_type": "display_data",
          "data": {
            "text/plain": [
              "<Figure size 576x684 with 2 Axes>"
            ],
            "image/png": "[encoded data removed]"
          },
          "metadata": {
            "needs_background": "light"
          }
        }
      ]
    },
    {
      "cell_type": "code",
      "source": [
        "df.columns[46]"
      ],
      "metadata": {
        "colab": {
          "base_uri": "https://localhost:8080/",
          "height": 36
        },
        "id": "Ai5qt66T-ZK_",
        "outputId": "29d6056b-225e-4406-e014-704d552a7b37"
      },
      "execution_count": null,
      "outputs": [
        {
          "output_type": "execute_result",
          "data": {
            "text/plain": [
              "'PSH Flag Count'"
            ],
            "application/vnd.google.colaboratory.intrinsic+json": {
              "type": "string"
            }
          },
          "metadata": {},
          "execution_count": 43
        }
      ]
    }
  ]
}